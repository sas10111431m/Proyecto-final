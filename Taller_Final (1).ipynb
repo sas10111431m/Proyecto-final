{
  "nbformat": 4,
  "nbformat_minor": 0,
  "metadata": {
    "colab": {
      "provenance": []
    },
    "kernelspec": {
      "name": "python3",
      "display_name": "Python 3"
    },
    "language_info": {
      "name": "python"
    }
  },
  "cells": [
    {
      "cell_type": "markdown",
      "source": [
        "#Taller Final\n",
        "\n",
        "\n",
        "\n",
        "*   Roberto José Ávila Moreno\n",
        "*   Salim Abou-Ammar Garcia\n",
        "\n"
      ],
      "metadata": {
        "id": "tsxdLbOZI3UJ"
      }
    },
    {
      "cell_type": "markdown",
      "source": [
        "**LIBRERIAS**"
      ],
      "metadata": {
        "id": "d1a7mB4E7VKW"
      }
    },
    {
      "cell_type": "code",
      "source": [
        "!pip install --quiet yfinance \n",
        "import yfinance as yf\n",
        "import seaborn as sns\n",
        "import pandas as pd \n",
        "import numpy as np \n",
        "import cvxpy as cp\n",
        "import matplotlib.pyplot as plt\n",
        "from scipy.stats import norm\n",
        "from scipy.optimize import minimize\n",
        "from scipy.optimize import linprog\n",
        "import statsmodels.api as sm\n",
        "from statsmodels.tsa.stattools import adfuller\n",
        "import warnings\n",
        "warnings.simplefilter(\"ignore\")"
      ],
      "metadata": {
        "id": "FtHnecIqx14a"
      },
      "execution_count": 40,
      "outputs": []
    },
    {
      "cell_type": "markdown",
      "source": [
        "**INFORME:**"
      ],
      "metadata": {
        "id": "VWJY8sCwW5sG"
      }
    },
    {
      "cell_type": "markdown",
      "source": [
        "**Descripción del Problema**"
      ],
      "metadata": {
        "id": "ACbGa9sYDwmq"
      }
    },
    {
      "cell_type": "markdown",
      "source": [
        "Encontrar un plan de producción es uno de los procesos más difíciles y se debe recurrir a herramientas de optimización que permitan encontrar de manera efectiva y eficiente el plan que mejor se acomode a los objetivos. En el siguiente caso de estudio nos encontramos frente a un problema de una empresa manufacturera que tiene tres tipos de productos (A, B, C), también tiene tres instalaciones ubicadas en diferentes ciudades con capacidades de producción de 1000, 1200, y 1500, y tiene además que cumplir con una demanda de 500, 700, y 800, y con esto se decide cuanto producir de cada producto en las respectivas instalaciones de manera que se optimice el proceso."
      ],
      "metadata": {
        "id": "Ca3zRuYu750E"
      }
    },
    {
      "cell_type": "markdown",
      "source": [
        "**Justificación**"
      ],
      "metadata": {
        "id": "2JXiNjqED3W_"
      }
    },
    {
      "cell_type": "markdown",
      "source": [
        "Se busca una solución al problema debido a que la empresa quiere o necesita minimizar los costos tanto de producción como de distribución, teniendo en cuenta principalmente la capacidad de producción de cada instalación, los costos de transporte de cada producto y la demanda de cada producto. Es importante la solución de este problema debido a que la rentabilidad de las empresas manufactureras dependen de la optimización de la producción y de lo relacionado con la parte operativa. Por lo que la clave de éxito de una empresa del sector es producir de la manera más efectiva posible.\n"
      ],
      "metadata": {
        "id": "Oq5wi-VGHNic"
      }
    },
    {
      "cell_type": "markdown",
      "source": [
        "**Objetivos**"
      ],
      "metadata": {
        "id": "87CGN8-8D7As"
      }
    },
    {
      "cell_type": "markdown",
      "source": [
        "* Trabajo: Poner en práctica todos los temas aprendidos a lo largo del curso para solucionar un problema aplicado a las finanzas, en este caso usaremos los aprendido en clase para solucionar un problema de optimización de producción de una empresa manufacturera.\n",
        "\n",
        "* Caso: El objetivo principal de la empresa es lograr disminuir los costos supliendo con la cantidad óptima de bienes a producir, y teniendo en cuenta factores como la demanda, la capacidad de producción y los costos de inventario."
      ],
      "metadata": {
        "id": "NS4Fn5YOEBTy"
      }
    },
    {
      "cell_type": "markdown",
      "source": [
        "**DATOS DE ENTRADA**"
      ],
      "metadata": {
        "id": "kq4wuRGg4E6c"
      }
    },
    {
      "cell_type": "code",
      "source": [
        "#DATOS:\n",
        "Productos=3\n",
        "Instalaciones=3\n",
        "Capacidades= np.array([1000,1200,1500])\n",
        "Demandas= np.array([500,700,800])\n",
        "Costos_por_instalacion=np.array([[5,8,9], [6,4,12], [9,5,10]])"
      ],
      "metadata": {
        "id": "yWc_Tmjn4I-w"
      },
      "execution_count": 41,
      "outputs": []
    },
    {
      "cell_type": "markdown",
      "source": [
        "**PRESENTACIÓN DE DATOS Y ANÁLISIS DESCRIPTIVO**"
      ],
      "metadata": {
        "id": "9equgW-4wI6V"
      }
    },
    {
      "cell_type": "markdown",
      "source": [
        "**Capacidad de Producción**"
      ],
      "metadata": {
        "id": "atkMuSwi4CFb"
      }
    },
    {
      "cell_type": "markdown",
      "source": [
        "La empresa maneja 3 productos, el producto A, el producto B y el producto C. La empresa tiene tres instalaciones de producción ubicadas en diferentes ciudades con capacidades instaladas en cada una: 1000, 1200 y 1500, respectivamente; y tiene que decidir cuánto producir de cada producto en cada instalación si decide mantenerla abierta."
      ],
      "metadata": {
        "id": "iGIqZE7b_4ss"
      }
    },
    {
      "cell_type": "code",
      "source": [
        "Tabla = {'Instalación':['1', '2', '3'],\n",
        "         'Producto': ['A','B','C'], \n",
        "                   'Capacidad de Producción': ['1000','1200','1500']}\n",
        "\n",
        "Tabla_Final = pd.DataFrame(Tabla,index=[\"1\",\"2\",\"3\"])\n",
        "Tabla_Final"
      ],
      "metadata": {
        "colab": {
          "base_uri": "https://localhost:8080/",
          "height": 143
        },
        "id": "NyBRivYC2wcB",
        "outputId": "d8cfe833-073c-4163-fb60-5ac38b94b78d"
      },
      "execution_count": 42,
      "outputs": [
        {
          "output_type": "execute_result",
          "data": {
            "text/plain": [
              "  Instalación Producto Capacidad de Producción\n",
              "1           1        A                    1000\n",
              "2           2        B                    1200\n",
              "3           3        C                    1500"
            ],
            "text/html": [
              "\n",
              "  <div id=\"df-30d6267d-b629-4597-af8d-3b029de2c956\">\n",
              "    <div class=\"colab-df-container\">\n",
              "      <div>\n",
              "<style scoped>\n",
              "    .dataframe tbody tr th:only-of-type {\n",
              "        vertical-align: middle;\n",
              "    }\n",
              "\n",
              "    .dataframe tbody tr th {\n",
              "        vertical-align: top;\n",
              "    }\n",
              "\n",
              "    .dataframe thead th {\n",
              "        text-align: right;\n",
              "    }\n",
              "</style>\n",
              "<table border=\"1\" class=\"dataframe\">\n",
              "  <thead>\n",
              "    <tr style=\"text-align: right;\">\n",
              "      <th></th>\n",
              "      <th>Instalación</th>\n",
              "      <th>Producto</th>\n",
              "      <th>Capacidad de Producción</th>\n",
              "    </tr>\n",
              "  </thead>\n",
              "  <tbody>\n",
              "    <tr>\n",
              "      <th>1</th>\n",
              "      <td>1</td>\n",
              "      <td>A</td>\n",
              "      <td>1000</td>\n",
              "    </tr>\n",
              "    <tr>\n",
              "      <th>2</th>\n",
              "      <td>2</td>\n",
              "      <td>B</td>\n",
              "      <td>1200</td>\n",
              "    </tr>\n",
              "    <tr>\n",
              "      <th>3</th>\n",
              "      <td>3</td>\n",
              "      <td>C</td>\n",
              "      <td>1500</td>\n",
              "    </tr>\n",
              "  </tbody>\n",
              "</table>\n",
              "</div>\n",
              "      <button class=\"colab-df-convert\" onclick=\"convertToInteractive('df-30d6267d-b629-4597-af8d-3b029de2c956')\"\n",
              "              title=\"Convert this dataframe to an interactive table.\"\n",
              "              style=\"display:none;\">\n",
              "        \n",
              "  <svg xmlns=\"http://www.w3.org/2000/svg\" height=\"24px\"viewBox=\"0 0 24 24\"\n",
              "       width=\"24px\">\n",
              "    <path d=\"M0 0h24v24H0V0z\" fill=\"none\"/>\n",
              "    <path d=\"M18.56 5.44l.94 2.06.94-2.06 2.06-.94-2.06-.94-.94-2.06-.94 2.06-2.06.94zm-11 1L8.5 8.5l.94-2.06 2.06-.94-2.06-.94L8.5 2.5l-.94 2.06-2.06.94zm10 10l.94 2.06.94-2.06 2.06-.94-2.06-.94-.94-2.06-.94 2.06-2.06.94z\"/><path d=\"M17.41 7.96l-1.37-1.37c-.4-.4-.92-.59-1.43-.59-.52 0-1.04.2-1.43.59L10.3 9.45l-7.72 7.72c-.78.78-.78 2.05 0 2.83L4 21.41c.39.39.9.59 1.41.59.51 0 1.02-.2 1.41-.59l7.78-7.78 2.81-2.81c.8-.78.8-2.07 0-2.86zM5.41 20L4 18.59l7.72-7.72 1.47 1.35L5.41 20z\"/>\n",
              "  </svg>\n",
              "      </button>\n",
              "      \n",
              "  <style>\n",
              "    .colab-df-container {\n",
              "      display:flex;\n",
              "      flex-wrap:wrap;\n",
              "      gap: 12px;\n",
              "    }\n",
              "\n",
              "    .colab-df-convert {\n",
              "      background-color: #E8F0FE;\n",
              "      border: none;\n",
              "      border-radius: 50%;\n",
              "      cursor: pointer;\n",
              "      display: none;\n",
              "      fill: #1967D2;\n",
              "      height: 32px;\n",
              "      padding: 0 0 0 0;\n",
              "      width: 32px;\n",
              "    }\n",
              "\n",
              "    .colab-df-convert:hover {\n",
              "      background-color: #E2EBFA;\n",
              "      box-shadow: 0px 1px 2px rgba(60, 64, 67, 0.3), 0px 1px 3px 1px rgba(60, 64, 67, 0.15);\n",
              "      fill: #174EA6;\n",
              "    }\n",
              "\n",
              "    [theme=dark] .colab-df-convert {\n",
              "      background-color: #3B4455;\n",
              "      fill: #D2E3FC;\n",
              "    }\n",
              "\n",
              "    [theme=dark] .colab-df-convert:hover {\n",
              "      background-color: #434B5C;\n",
              "      box-shadow: 0px 1px 3px 1px rgba(0, 0, 0, 0.15);\n",
              "      filter: drop-shadow(0px 1px 2px rgba(0, 0, 0, 0.3));\n",
              "      fill: #FFFFFF;\n",
              "    }\n",
              "  </style>\n",
              "\n",
              "      <script>\n",
              "        const buttonEl =\n",
              "          document.querySelector('#df-30d6267d-b629-4597-af8d-3b029de2c956 button.colab-df-convert');\n",
              "        buttonEl.style.display =\n",
              "          google.colab.kernel.accessAllowed ? 'block' : 'none';\n",
              "\n",
              "        async function convertToInteractive(key) {\n",
              "          const element = document.querySelector('#df-30d6267d-b629-4597-af8d-3b029de2c956');\n",
              "          const dataTable =\n",
              "            await google.colab.kernel.invokeFunction('convertToInteractive',\n",
              "                                                     [key], {});\n",
              "          if (!dataTable) return;\n",
              "\n",
              "          const docLinkHtml = 'Like what you see? Visit the ' +\n",
              "            '<a target=\"_blank\" href=https://colab.research.google.com/notebooks/data_table.ipynb>data table notebook</a>'\n",
              "            + ' to learn more about interactive tables.';\n",
              "          element.innerHTML = '';\n",
              "          dataTable['output_type'] = 'display_data';\n",
              "          await google.colab.output.renderOutput(dataTable, element);\n",
              "          const docLink = document.createElement('div');\n",
              "          docLink.innerHTML = docLinkHtml;\n",
              "          element.appendChild(docLink);\n",
              "        }\n",
              "      </script>\n",
              "    </div>\n",
              "  </div>\n",
              "  "
            ]
          },
          "metadata": {},
          "execution_count": 42
        }
      ]
    },
    {
      "cell_type": "markdown",
      "source": [
        "**Demanda**"
      ],
      "metadata": {
        "id": "m2vAztzy3_MN"
      }
    },
    {
      "cell_type": "markdown",
      "source": [
        "La empresa debe saber cómo distribuir los tres productos para cubrir una restricción de la demanda que corresponde a 500, 700 y 800, respectivamente por producto."
      ],
      "metadata": {
        "id": "tu7LOqXLATPR"
      }
    },
    {
      "cell_type": "code",
      "source": [
        "Tabla = {'Productos':['A', 'B', 'C'], \n",
        "                   'Demanda a Satisfacer': ['500','700','800']}\n",
        "\n",
        "Tabla_Final = pd.DataFrame(Tabla,index=[\"1\",\"2\",\"3\"])\n",
        "Tabla_Final"
      ],
      "metadata": {
        "colab": {
          "base_uri": "https://localhost:8080/",
          "height": 143
        },
        "id": "zBrhsVIb0kwR",
        "outputId": "25c11b96-81ad-4f34-f549-cefaa2b9ea70"
      },
      "execution_count": 43,
      "outputs": [
        {
          "output_type": "execute_result",
          "data": {
            "text/plain": [
              "  Productos Demanda a Satisfacer\n",
              "1         A                  500\n",
              "2         B                  700\n",
              "3         C                  800"
            ],
            "text/html": [
              "\n",
              "  <div id=\"df-ca7371ee-2c63-47f4-a1d4-d95b1a6f1c9f\">\n",
              "    <div class=\"colab-df-container\">\n",
              "      <div>\n",
              "<style scoped>\n",
              "    .dataframe tbody tr th:only-of-type {\n",
              "        vertical-align: middle;\n",
              "    }\n",
              "\n",
              "    .dataframe tbody tr th {\n",
              "        vertical-align: top;\n",
              "    }\n",
              "\n",
              "    .dataframe thead th {\n",
              "        text-align: right;\n",
              "    }\n",
              "</style>\n",
              "<table border=\"1\" class=\"dataframe\">\n",
              "  <thead>\n",
              "    <tr style=\"text-align: right;\">\n",
              "      <th></th>\n",
              "      <th>Productos</th>\n",
              "      <th>Demanda a Satisfacer</th>\n",
              "    </tr>\n",
              "  </thead>\n",
              "  <tbody>\n",
              "    <tr>\n",
              "      <th>1</th>\n",
              "      <td>A</td>\n",
              "      <td>500</td>\n",
              "    </tr>\n",
              "    <tr>\n",
              "      <th>2</th>\n",
              "      <td>B</td>\n",
              "      <td>700</td>\n",
              "    </tr>\n",
              "    <tr>\n",
              "      <th>3</th>\n",
              "      <td>C</td>\n",
              "      <td>800</td>\n",
              "    </tr>\n",
              "  </tbody>\n",
              "</table>\n",
              "</div>\n",
              "      <button class=\"colab-df-convert\" onclick=\"convertToInteractive('df-ca7371ee-2c63-47f4-a1d4-d95b1a6f1c9f')\"\n",
              "              title=\"Convert this dataframe to an interactive table.\"\n",
              "              style=\"display:none;\">\n",
              "        \n",
              "  <svg xmlns=\"http://www.w3.org/2000/svg\" height=\"24px\"viewBox=\"0 0 24 24\"\n",
              "       width=\"24px\">\n",
              "    <path d=\"M0 0h24v24H0V0z\" fill=\"none\"/>\n",
              "    <path d=\"M18.56 5.44l.94 2.06.94-2.06 2.06-.94-2.06-.94-.94-2.06-.94 2.06-2.06.94zm-11 1L8.5 8.5l.94-2.06 2.06-.94-2.06-.94L8.5 2.5l-.94 2.06-2.06.94zm10 10l.94 2.06.94-2.06 2.06-.94-2.06-.94-.94-2.06-.94 2.06-2.06.94z\"/><path d=\"M17.41 7.96l-1.37-1.37c-.4-.4-.92-.59-1.43-.59-.52 0-1.04.2-1.43.59L10.3 9.45l-7.72 7.72c-.78.78-.78 2.05 0 2.83L4 21.41c.39.39.9.59 1.41.59.51 0 1.02-.2 1.41-.59l7.78-7.78 2.81-2.81c.8-.78.8-2.07 0-2.86zM5.41 20L4 18.59l7.72-7.72 1.47 1.35L5.41 20z\"/>\n",
              "  </svg>\n",
              "      </button>\n",
              "      \n",
              "  <style>\n",
              "    .colab-df-container {\n",
              "      display:flex;\n",
              "      flex-wrap:wrap;\n",
              "      gap: 12px;\n",
              "    }\n",
              "\n",
              "    .colab-df-convert {\n",
              "      background-color: #E8F0FE;\n",
              "      border: none;\n",
              "      border-radius: 50%;\n",
              "      cursor: pointer;\n",
              "      display: none;\n",
              "      fill: #1967D2;\n",
              "      height: 32px;\n",
              "      padding: 0 0 0 0;\n",
              "      width: 32px;\n",
              "    }\n",
              "\n",
              "    .colab-df-convert:hover {\n",
              "      background-color: #E2EBFA;\n",
              "      box-shadow: 0px 1px 2px rgba(60, 64, 67, 0.3), 0px 1px 3px 1px rgba(60, 64, 67, 0.15);\n",
              "      fill: #174EA6;\n",
              "    }\n",
              "\n",
              "    [theme=dark] .colab-df-convert {\n",
              "      background-color: #3B4455;\n",
              "      fill: #D2E3FC;\n",
              "    }\n",
              "\n",
              "    [theme=dark] .colab-df-convert:hover {\n",
              "      background-color: #434B5C;\n",
              "      box-shadow: 0px 1px 3px 1px rgba(0, 0, 0, 0.15);\n",
              "      filter: drop-shadow(0px 1px 2px rgba(0, 0, 0, 0.3));\n",
              "      fill: #FFFFFF;\n",
              "    }\n",
              "  </style>\n",
              "\n",
              "      <script>\n",
              "        const buttonEl =\n",
              "          document.querySelector('#df-ca7371ee-2c63-47f4-a1d4-d95b1a6f1c9f button.colab-df-convert');\n",
              "        buttonEl.style.display =\n",
              "          google.colab.kernel.accessAllowed ? 'block' : 'none';\n",
              "\n",
              "        async function convertToInteractive(key) {\n",
              "          const element = document.querySelector('#df-ca7371ee-2c63-47f4-a1d4-d95b1a6f1c9f');\n",
              "          const dataTable =\n",
              "            await google.colab.kernel.invokeFunction('convertToInteractive',\n",
              "                                                     [key], {});\n",
              "          if (!dataTable) return;\n",
              "\n",
              "          const docLinkHtml = 'Like what you see? Visit the ' +\n",
              "            '<a target=\"_blank\" href=https://colab.research.google.com/notebooks/data_table.ipynb>data table notebook</a>'\n",
              "            + ' to learn more about interactive tables.';\n",
              "          element.innerHTML = '';\n",
              "          dataTable['output_type'] = 'display_data';\n",
              "          await google.colab.output.renderOutput(dataTable, element);\n",
              "          const docLink = document.createElement('div');\n",
              "          docLink.innerHTML = docLinkHtml;\n",
              "          element.appendChild(docLink);\n",
              "        }\n",
              "      </script>\n",
              "    </div>\n",
              "  </div>\n",
              "  "
            ]
          },
          "metadata": {},
          "execution_count": 43
        }
      ]
    },
    {
      "cell_type": "markdown",
      "source": [
        "**Costos de Distribución**"
      ],
      "metadata": {
        "id": "qO-PzpH44ETN"
      }
    },
    {
      "cell_type": "markdown",
      "source": [
        "Y además de todo esto, también teniendo en cuenta los costos de distribución a cada punto de demanda."
      ],
      "metadata": {
        "id": "Z1U9sLbvAhdh"
      }
    },
    {
      "cell_type": "code",
      "source": [
        "Tabla = {'Instalación':['1', '2', '3'], \n",
        "                   'Punto de Demanda 1': ['$5','$6','$9'],\n",
        "                   'Punto de Demanda 2':['$8','$4','$5'],\n",
        "                   'Punto de Demanda 3':['$9','$12','$10']}\n",
        "\n",
        "Tabla_Final = pd.DataFrame(Tabla,index=[\"1\",\"2\",\"3\"])\n",
        "Tabla_Final"
      ],
      "metadata": {
        "colab": {
          "base_uri": "https://localhost:8080/",
          "height": 143
        },
        "id": "jqoOhVCYwMYP",
        "outputId": "d0b7d60a-a8c9-4703-85a8-fd9a63e2b519"
      },
      "execution_count": 44,
      "outputs": [
        {
          "output_type": "execute_result",
          "data": {
            "text/plain": [
              "  Instalación Punto de Demanda 1 Punto de Demanda 2 Punto de Demanda 3\n",
              "1           1                 $5                 $8                 $9\n",
              "2           2                 $6                 $4                $12\n",
              "3           3                 $9                 $5                $10"
            ],
            "text/html": [
              "\n",
              "  <div id=\"df-dcd40740-2ac6-4336-8aec-3aceddb8da8f\">\n",
              "    <div class=\"colab-df-container\">\n",
              "      <div>\n",
              "<style scoped>\n",
              "    .dataframe tbody tr th:only-of-type {\n",
              "        vertical-align: middle;\n",
              "    }\n",
              "\n",
              "    .dataframe tbody tr th {\n",
              "        vertical-align: top;\n",
              "    }\n",
              "\n",
              "    .dataframe thead th {\n",
              "        text-align: right;\n",
              "    }\n",
              "</style>\n",
              "<table border=\"1\" class=\"dataframe\">\n",
              "  <thead>\n",
              "    <tr style=\"text-align: right;\">\n",
              "      <th></th>\n",
              "      <th>Instalación</th>\n",
              "      <th>Punto de Demanda 1</th>\n",
              "      <th>Punto de Demanda 2</th>\n",
              "      <th>Punto de Demanda 3</th>\n",
              "    </tr>\n",
              "  </thead>\n",
              "  <tbody>\n",
              "    <tr>\n",
              "      <th>1</th>\n",
              "      <td>1</td>\n",
              "      <td>$5</td>\n",
              "      <td>$8</td>\n",
              "      <td>$9</td>\n",
              "    </tr>\n",
              "    <tr>\n",
              "      <th>2</th>\n",
              "      <td>2</td>\n",
              "      <td>$6</td>\n",
              "      <td>$4</td>\n",
              "      <td>$12</td>\n",
              "    </tr>\n",
              "    <tr>\n",
              "      <th>3</th>\n",
              "      <td>3</td>\n",
              "      <td>$9</td>\n",
              "      <td>$5</td>\n",
              "      <td>$10</td>\n",
              "    </tr>\n",
              "  </tbody>\n",
              "</table>\n",
              "</div>\n",
              "      <button class=\"colab-df-convert\" onclick=\"convertToInteractive('df-dcd40740-2ac6-4336-8aec-3aceddb8da8f')\"\n",
              "              title=\"Convert this dataframe to an interactive table.\"\n",
              "              style=\"display:none;\">\n",
              "        \n",
              "  <svg xmlns=\"http://www.w3.org/2000/svg\" height=\"24px\"viewBox=\"0 0 24 24\"\n",
              "       width=\"24px\">\n",
              "    <path d=\"M0 0h24v24H0V0z\" fill=\"none\"/>\n",
              "    <path d=\"M18.56 5.44l.94 2.06.94-2.06 2.06-.94-2.06-.94-.94-2.06-.94 2.06-2.06.94zm-11 1L8.5 8.5l.94-2.06 2.06-.94-2.06-.94L8.5 2.5l-.94 2.06-2.06.94zm10 10l.94 2.06.94-2.06 2.06-.94-2.06-.94-.94-2.06-.94 2.06-2.06.94z\"/><path d=\"M17.41 7.96l-1.37-1.37c-.4-.4-.92-.59-1.43-.59-.52 0-1.04.2-1.43.59L10.3 9.45l-7.72 7.72c-.78.78-.78 2.05 0 2.83L4 21.41c.39.39.9.59 1.41.59.51 0 1.02-.2 1.41-.59l7.78-7.78 2.81-2.81c.8-.78.8-2.07 0-2.86zM5.41 20L4 18.59l7.72-7.72 1.47 1.35L5.41 20z\"/>\n",
              "  </svg>\n",
              "      </button>\n",
              "      \n",
              "  <style>\n",
              "    .colab-df-container {\n",
              "      display:flex;\n",
              "      flex-wrap:wrap;\n",
              "      gap: 12px;\n",
              "    }\n",
              "\n",
              "    .colab-df-convert {\n",
              "      background-color: #E8F0FE;\n",
              "      border: none;\n",
              "      border-radius: 50%;\n",
              "      cursor: pointer;\n",
              "      display: none;\n",
              "      fill: #1967D2;\n",
              "      height: 32px;\n",
              "      padding: 0 0 0 0;\n",
              "      width: 32px;\n",
              "    }\n",
              "\n",
              "    .colab-df-convert:hover {\n",
              "      background-color: #E2EBFA;\n",
              "      box-shadow: 0px 1px 2px rgba(60, 64, 67, 0.3), 0px 1px 3px 1px rgba(60, 64, 67, 0.15);\n",
              "      fill: #174EA6;\n",
              "    }\n",
              "\n",
              "    [theme=dark] .colab-df-convert {\n",
              "      background-color: #3B4455;\n",
              "      fill: #D2E3FC;\n",
              "    }\n",
              "\n",
              "    [theme=dark] .colab-df-convert:hover {\n",
              "      background-color: #434B5C;\n",
              "      box-shadow: 0px 1px 3px 1px rgba(0, 0, 0, 0.15);\n",
              "      filter: drop-shadow(0px 1px 2px rgba(0, 0, 0, 0.3));\n",
              "      fill: #FFFFFF;\n",
              "    }\n",
              "  </style>\n",
              "\n",
              "      <script>\n",
              "        const buttonEl =\n",
              "          document.querySelector('#df-dcd40740-2ac6-4336-8aec-3aceddb8da8f button.colab-df-convert');\n",
              "        buttonEl.style.display =\n",
              "          google.colab.kernel.accessAllowed ? 'block' : 'none';\n",
              "\n",
              "        async function convertToInteractive(key) {\n",
              "          const element = document.querySelector('#df-dcd40740-2ac6-4336-8aec-3aceddb8da8f');\n",
              "          const dataTable =\n",
              "            await google.colab.kernel.invokeFunction('convertToInteractive',\n",
              "                                                     [key], {});\n",
              "          if (!dataTable) return;\n",
              "\n",
              "          const docLinkHtml = 'Like what you see? Visit the ' +\n",
              "            '<a target=\"_blank\" href=https://colab.research.google.com/notebooks/data_table.ipynb>data table notebook</a>'\n",
              "            + ' to learn more about interactive tables.';\n",
              "          element.innerHTML = '';\n",
              "          dataTable['output_type'] = 'display_data';\n",
              "          await google.colab.output.renderOutput(dataTable, element);\n",
              "          const docLink = document.createElement('div');\n",
              "          docLink.innerHTML = docLinkHtml;\n",
              "          element.appendChild(docLink);\n",
              "        }\n",
              "      </script>\n",
              "    </div>\n",
              "  </div>\n",
              "  "
            ]
          },
          "metadata": {},
          "execution_count": 44
        }
      ]
    },
    {
      "cell_type": "markdown",
      "source": [
        "**FUNCIÓN: OBJETIVO DE MINIMIZAR COSTOS**"
      ],
      "metadata": {
        "id": "L565xoMb3m7a"
      }
    },
    {
      "cell_type": "markdown",
      "source": [
        "**Variables**"
      ],
      "metadata": {
        "id": "FJaDuSL45C8B"
      }
    },
    {
      "cell_type": "markdown",
      "source": [
        "* x = Cantidad del producto i producido en la instalación j\n",
        "\n",
        "* y = Demanda del producto i\n",
        "\n",
        "* c = Costo de transportar el producto i desde la instalación j hasta la ubicación de la demanda"
      ],
      "metadata": {
        "id": "d-w-XYSj6Acx"
      }
    },
    {
      "cell_type": "markdown",
      "source": [
        "* i = Productos\n",
        "* j = Instalaciónes"
      ],
      "metadata": {
        "id": "5fiu7VaT--Gj"
      }
    },
    {
      "cell_type": "markdown",
      "source": [
        "**Restricciones**"
      ],
      "metadata": {
        "id": "Gna42xIP5_ct"
      }
    },
    {
      "cell_type": "markdown",
      "source": [
        "* Capacidad de producción hasta de 1000, 1200, y 1500 por cada instalación 1, 2, y 3, respectivamente.\n",
        "* Restricción de demanda minimo de 500, 700, y 800 por producto A, B, y C, respectivamente.\n",
        "* Cantidades no negativas."
      ],
      "metadata": {
        "id": "hLHH0Qil52MQ"
      }
    },
    {
      "cell_type": "markdown",
      "source": [
        "**Función**"
      ],
      "metadata": {
        "id": "5EW7MWuy5IUu"
      }
    },
    {
      "cell_type": "markdown",
      "source": [
        "Minimizar costos totales de producción y distribución"
      ],
      "metadata": {
        "id": "gpInJWAa6Bgr"
      }
    },
    {
      "cell_type": "markdown",
      "source": [
        "$$Min. Costo-Total$$\n"
      ],
      "metadata": {
        "id": "W-Cgu95pzQSO"
      }
    },
    {
      "cell_type": "markdown",
      "source": [
        "**OPTIMIZACIÓN**"
      ],
      "metadata": {
        "id": "E4Lz9bE8yzOo"
      }
    },
    {
      "cell_type": "markdown",
      "source": [
        "Con el proceso de optimización lo que buscamos es encontrar las cantidades óptimas a producir de cada producto en cada instalación y además lograr ver cuál es la instalación menos efectiva, para de esta manera cerrarla."
      ],
      "metadata": {
        "id": "8FALtPVP_iLz"
      }
    },
    {
      "cell_type": "code",
      "source": [
        "# Variables de decisión\n",
        "x = cp.Variable((Productos, Instalaciones))\n",
        "\n",
        "# Función objetivo\n",
        "Costo_t = cp.sum(cp.multiply(Costos_por_instalacion, x))\n",
        "\n",
        "# Restricciones:\n",
        "\n",
        "# Restricción de capacidad\n",
        "for j in range(Instalaciones):\n",
        "    cp.sum(x[:, j]) <= Capacidades[j]\n",
        "\n",
        "# Restricción de demanda\n",
        "for i in range(Productos):\n",
        "    cp.sum(x[i, :]) == Demandas[i]\n",
        "\n",
        "# Restricción de no negatividad\n",
        "x >= 0\n",
        "\n",
        "# Problema de optimización\n",
        "prob = cp.Problem(cp.Minimize(Costo_t), [x >= 0, \n",
        "    cp.sum(x[:, 0]) <= Capacidades[0], \n",
        "    cp.sum(x[:, 1]) <= Capacidades[1],\n",
        "    cp.sum(x[:, 2]) <= Capacidades[2],\n",
        "    cp.sum(x[0, :]) == Demandas[0],\n",
        "    cp.sum(x[1, :]) == Demandas[1],\n",
        "    cp.sum(x[2, :]) == Demandas[2]])\n",
        "\n",
        "# Solución del problema\n",
        "prob.solve()\n",
        "\n",
        "# Solución:\n",
        "\n",
        "print(\"Costo total:\", prob.value)\n",
        "print(\"Cantidad de productos producidos:\")\n",
        "print(x.value)\n",
        "pd.DataFrame(x.value).round(1)"
      ],
      "metadata": {
        "colab": {
          "base_uri": "https://localhost:8080/",
          "height": 230
        },
        "id": "voUGAfHf9InV",
        "outputId": "ef494431-ef2a-4c59-912b-75e70be39ce4"
      },
      "execution_count": 45,
      "outputs": [
        {
          "output_type": "stream",
          "name": "stdout",
          "text": [
            "Costo total: 9900.00002040023\n",
            "Cantidad de productos producidos:\n",
            "[[4.99999999e+02 2.92635419e-07 5.84871759e-07]\n",
            " [3.00000002e+02 3.99999998e+02 2.31390215e-07]\n",
            " [1.97877330e-06 7.99999997e+02 8.47020622e-07]]\n"
          ]
        },
        {
          "output_type": "execute_result",
          "data": {
            "text/plain": [
              "       0      1    2\n",
              "0  500.0    0.0  0.0\n",
              "1  300.0  400.0  0.0\n",
              "2    0.0  800.0  0.0"
            ],
            "text/html": [
              "\n",
              "  <div id=\"df-adac17ec-007f-4fb3-a9d0-20dbf0494e38\">\n",
              "    <div class=\"colab-df-container\">\n",
              "      <div>\n",
              "<style scoped>\n",
              "    .dataframe tbody tr th:only-of-type {\n",
              "        vertical-align: middle;\n",
              "    }\n",
              "\n",
              "    .dataframe tbody tr th {\n",
              "        vertical-align: top;\n",
              "    }\n",
              "\n",
              "    .dataframe thead th {\n",
              "        text-align: right;\n",
              "    }\n",
              "</style>\n",
              "<table border=\"1\" class=\"dataframe\">\n",
              "  <thead>\n",
              "    <tr style=\"text-align: right;\">\n",
              "      <th></th>\n",
              "      <th>0</th>\n",
              "      <th>1</th>\n",
              "      <th>2</th>\n",
              "    </tr>\n",
              "  </thead>\n",
              "  <tbody>\n",
              "    <tr>\n",
              "      <th>0</th>\n",
              "      <td>500.0</td>\n",
              "      <td>0.0</td>\n",
              "      <td>0.0</td>\n",
              "    </tr>\n",
              "    <tr>\n",
              "      <th>1</th>\n",
              "      <td>300.0</td>\n",
              "      <td>400.0</td>\n",
              "      <td>0.0</td>\n",
              "    </tr>\n",
              "    <tr>\n",
              "      <th>2</th>\n",
              "      <td>0.0</td>\n",
              "      <td>800.0</td>\n",
              "      <td>0.0</td>\n",
              "    </tr>\n",
              "  </tbody>\n",
              "</table>\n",
              "</div>\n",
              "      <button class=\"colab-df-convert\" onclick=\"convertToInteractive('df-adac17ec-007f-4fb3-a9d0-20dbf0494e38')\"\n",
              "              title=\"Convert this dataframe to an interactive table.\"\n",
              "              style=\"display:none;\">\n",
              "        \n",
              "  <svg xmlns=\"http://www.w3.org/2000/svg\" height=\"24px\"viewBox=\"0 0 24 24\"\n",
              "       width=\"24px\">\n",
              "    <path d=\"M0 0h24v24H0V0z\" fill=\"none\"/>\n",
              "    <path d=\"M18.56 5.44l.94 2.06.94-2.06 2.06-.94-2.06-.94-.94-2.06-.94 2.06-2.06.94zm-11 1L8.5 8.5l.94-2.06 2.06-.94-2.06-.94L8.5 2.5l-.94 2.06-2.06.94zm10 10l.94 2.06.94-2.06 2.06-.94-2.06-.94-.94-2.06-.94 2.06-2.06.94z\"/><path d=\"M17.41 7.96l-1.37-1.37c-.4-.4-.92-.59-1.43-.59-.52 0-1.04.2-1.43.59L10.3 9.45l-7.72 7.72c-.78.78-.78 2.05 0 2.83L4 21.41c.39.39.9.59 1.41.59.51 0 1.02-.2 1.41-.59l7.78-7.78 2.81-2.81c.8-.78.8-2.07 0-2.86zM5.41 20L4 18.59l7.72-7.72 1.47 1.35L5.41 20z\"/>\n",
              "  </svg>\n",
              "      </button>\n",
              "      \n",
              "  <style>\n",
              "    .colab-df-container {\n",
              "      display:flex;\n",
              "      flex-wrap:wrap;\n",
              "      gap: 12px;\n",
              "    }\n",
              "\n",
              "    .colab-df-convert {\n",
              "      background-color: #E8F0FE;\n",
              "      border: none;\n",
              "      border-radius: 50%;\n",
              "      cursor: pointer;\n",
              "      display: none;\n",
              "      fill: #1967D2;\n",
              "      height: 32px;\n",
              "      padding: 0 0 0 0;\n",
              "      width: 32px;\n",
              "    }\n",
              "\n",
              "    .colab-df-convert:hover {\n",
              "      background-color: #E2EBFA;\n",
              "      box-shadow: 0px 1px 2px rgba(60, 64, 67, 0.3), 0px 1px 3px 1px rgba(60, 64, 67, 0.15);\n",
              "      fill: #174EA6;\n",
              "    }\n",
              "\n",
              "    [theme=dark] .colab-df-convert {\n",
              "      background-color: #3B4455;\n",
              "      fill: #D2E3FC;\n",
              "    }\n",
              "\n",
              "    [theme=dark] .colab-df-convert:hover {\n",
              "      background-color: #434B5C;\n",
              "      box-shadow: 0px 1px 3px 1px rgba(0, 0, 0, 0.15);\n",
              "      filter: drop-shadow(0px 1px 2px rgba(0, 0, 0, 0.3));\n",
              "      fill: #FFFFFF;\n",
              "    }\n",
              "  </style>\n",
              "\n",
              "      <script>\n",
              "        const buttonEl =\n",
              "          document.querySelector('#df-adac17ec-007f-4fb3-a9d0-20dbf0494e38 button.colab-df-convert');\n",
              "        buttonEl.style.display =\n",
              "          google.colab.kernel.accessAllowed ? 'block' : 'none';\n",
              "\n",
              "        async function convertToInteractive(key) {\n",
              "          const element = document.querySelector('#df-adac17ec-007f-4fb3-a9d0-20dbf0494e38');\n",
              "          const dataTable =\n",
              "            await google.colab.kernel.invokeFunction('convertToInteractive',\n",
              "                                                     [key], {});\n",
              "          if (!dataTable) return;\n",
              "\n",
              "          const docLinkHtml = 'Like what you see? Visit the ' +\n",
              "            '<a target=\"_blank\" href=https://colab.research.google.com/notebooks/data_table.ipynb>data table notebook</a>'\n",
              "            + ' to learn more about interactive tables.';\n",
              "          element.innerHTML = '';\n",
              "          dataTable['output_type'] = 'display_data';\n",
              "          await google.colab.output.renderOutput(dataTable, element);\n",
              "          const docLink = document.createElement('div');\n",
              "          docLink.innerHTML = docLinkHtml;\n",
              "          element.appendChild(docLink);\n",
              "        }\n",
              "      </script>\n",
              "    </div>\n",
              "  </div>\n",
              "  "
            ]
          },
          "metadata": {},
          "execution_count": 45
        }
      ]
    },
    {
      "cell_type": "code",
      "source": [
        "Tabla = {'Demanda Producto A': ['500','0','0'],\n",
        "                   'Demanda Producto B':['300','400','0'],\n",
        "                  'Demanda Producto C':['0','800','0']}\n",
        "\n",
        "Tabla_Final = pd.DataFrame(Tabla,index=[\"Instalación 1\",\"Instalación 2\",\"Instalación 3\"])\n",
        "Tabla_Final"
      ],
      "metadata": {
        "colab": {
          "base_uri": "https://localhost:8080/",
          "height": 143
        },
        "id": "fjGCMVV1C15o",
        "outputId": "a85f7660-a523-4d94-b4f2-b47d4bad3f4a"
      },
      "execution_count": 46,
      "outputs": [
        {
          "output_type": "execute_result",
          "data": {
            "text/plain": [
              "              Demanda Producto A Demanda Producto B Demanda Producto C\n",
              "Instalación 1                500                300                  0\n",
              "Instalación 2                  0                400                800\n",
              "Instalación 3                  0                  0                  0"
            ],
            "text/html": [
              "\n",
              "  <div id=\"df-37f2ef67-d567-444c-86b1-c16e2474dd53\">\n",
              "    <div class=\"colab-df-container\">\n",
              "      <div>\n",
              "<style scoped>\n",
              "    .dataframe tbody tr th:only-of-type {\n",
              "        vertical-align: middle;\n",
              "    }\n",
              "\n",
              "    .dataframe tbody tr th {\n",
              "        vertical-align: top;\n",
              "    }\n",
              "\n",
              "    .dataframe thead th {\n",
              "        text-align: right;\n",
              "    }\n",
              "</style>\n",
              "<table border=\"1\" class=\"dataframe\">\n",
              "  <thead>\n",
              "    <tr style=\"text-align: right;\">\n",
              "      <th></th>\n",
              "      <th>Demanda Producto A</th>\n",
              "      <th>Demanda Producto B</th>\n",
              "      <th>Demanda Producto C</th>\n",
              "    </tr>\n",
              "  </thead>\n",
              "  <tbody>\n",
              "    <tr>\n",
              "      <th>Instalación 1</th>\n",
              "      <td>500</td>\n",
              "      <td>300</td>\n",
              "      <td>0</td>\n",
              "    </tr>\n",
              "    <tr>\n",
              "      <th>Instalación 2</th>\n",
              "      <td>0</td>\n",
              "      <td>400</td>\n",
              "      <td>800</td>\n",
              "    </tr>\n",
              "    <tr>\n",
              "      <th>Instalación 3</th>\n",
              "      <td>0</td>\n",
              "      <td>0</td>\n",
              "      <td>0</td>\n",
              "    </tr>\n",
              "  </tbody>\n",
              "</table>\n",
              "</div>\n",
              "      <button class=\"colab-df-convert\" onclick=\"convertToInteractive('df-37f2ef67-d567-444c-86b1-c16e2474dd53')\"\n",
              "              title=\"Convert this dataframe to an interactive table.\"\n",
              "              style=\"display:none;\">\n",
              "        \n",
              "  <svg xmlns=\"http://www.w3.org/2000/svg\" height=\"24px\"viewBox=\"0 0 24 24\"\n",
              "       width=\"24px\">\n",
              "    <path d=\"M0 0h24v24H0V0z\" fill=\"none\"/>\n",
              "    <path d=\"M18.56 5.44l.94 2.06.94-2.06 2.06-.94-2.06-.94-.94-2.06-.94 2.06-2.06.94zm-11 1L8.5 8.5l.94-2.06 2.06-.94-2.06-.94L8.5 2.5l-.94 2.06-2.06.94zm10 10l.94 2.06.94-2.06 2.06-.94-2.06-.94-.94-2.06-.94 2.06-2.06.94z\"/><path d=\"M17.41 7.96l-1.37-1.37c-.4-.4-.92-.59-1.43-.59-.52 0-1.04.2-1.43.59L10.3 9.45l-7.72 7.72c-.78.78-.78 2.05 0 2.83L4 21.41c.39.39.9.59 1.41.59.51 0 1.02-.2 1.41-.59l7.78-7.78 2.81-2.81c.8-.78.8-2.07 0-2.86zM5.41 20L4 18.59l7.72-7.72 1.47 1.35L5.41 20z\"/>\n",
              "  </svg>\n",
              "      </button>\n",
              "      \n",
              "  <style>\n",
              "    .colab-df-container {\n",
              "      display:flex;\n",
              "      flex-wrap:wrap;\n",
              "      gap: 12px;\n",
              "    }\n",
              "\n",
              "    .colab-df-convert {\n",
              "      background-color: #E8F0FE;\n",
              "      border: none;\n",
              "      border-radius: 50%;\n",
              "      cursor: pointer;\n",
              "      display: none;\n",
              "      fill: #1967D2;\n",
              "      height: 32px;\n",
              "      padding: 0 0 0 0;\n",
              "      width: 32px;\n",
              "    }\n",
              "\n",
              "    .colab-df-convert:hover {\n",
              "      background-color: #E2EBFA;\n",
              "      box-shadow: 0px 1px 2px rgba(60, 64, 67, 0.3), 0px 1px 3px 1px rgba(60, 64, 67, 0.15);\n",
              "      fill: #174EA6;\n",
              "    }\n",
              "\n",
              "    [theme=dark] .colab-df-convert {\n",
              "      background-color: #3B4455;\n",
              "      fill: #D2E3FC;\n",
              "    }\n",
              "\n",
              "    [theme=dark] .colab-df-convert:hover {\n",
              "      background-color: #434B5C;\n",
              "      box-shadow: 0px 1px 3px 1px rgba(0, 0, 0, 0.15);\n",
              "      filter: drop-shadow(0px 1px 2px rgba(0, 0, 0, 0.3));\n",
              "      fill: #FFFFFF;\n",
              "    }\n",
              "  </style>\n",
              "\n",
              "      <script>\n",
              "        const buttonEl =\n",
              "          document.querySelector('#df-37f2ef67-d567-444c-86b1-c16e2474dd53 button.colab-df-convert');\n",
              "        buttonEl.style.display =\n",
              "          google.colab.kernel.accessAllowed ? 'block' : 'none';\n",
              "\n",
              "        async function convertToInteractive(key) {\n",
              "          const element = document.querySelector('#df-37f2ef67-d567-444c-86b1-c16e2474dd53');\n",
              "          const dataTable =\n",
              "            await google.colab.kernel.invokeFunction('convertToInteractive',\n",
              "                                                     [key], {});\n",
              "          if (!dataTable) return;\n",
              "\n",
              "          const docLinkHtml = 'Like what you see? Visit the ' +\n",
              "            '<a target=\"_blank\" href=https://colab.research.google.com/notebooks/data_table.ipynb>data table notebook</a>'\n",
              "            + ' to learn more about interactive tables.';\n",
              "          element.innerHTML = '';\n",
              "          dataTable['output_type'] = 'display_data';\n",
              "          await google.colab.output.renderOutput(dataTable, element);\n",
              "          const docLink = document.createElement('div');\n",
              "          docLink.innerHTML = docLinkHtml;\n",
              "          element.appendChild(docLink);\n",
              "        }\n",
              "      </script>\n",
              "    </div>\n",
              "  </div>\n",
              "  "
            ]
          },
          "metadata": {},
          "execution_count": 46
        }
      ]
    },
    {
      "cell_type": "markdown",
      "source": [
        "Luego de aplicar la optimización, según los resultados, se debe cerrar la planta número 3, debido a los altos costos de distribución que dicha planta tiene, y de esta manera distribuir la producción de la siguiente manera:\n",
        "La instalación 1 producirá 500 del producto A (demanda completa) y producirá 300 del producto B. Y, por otro lado, la instalación 2 producirá 400 del producto B (para completar demanda) y 800 del producto C (demanda completa)."
      ],
      "metadata": {
        "id": "5Ee-zBIGAIey"
      }
    },
    {
      "cell_type": "markdown",
      "source": [
        "**MONTE CARLO**"
      ],
      "metadata": {
        "id": "CCYpl6rlxU57"
      }
    },
    {
      "cell_type": "code",
      "source": [
        "!pip install --quiet pyDOE\n",
        "from pyDOE import lhs"
      ],
      "metadata": {
        "id": "sNY3BUBM3lLL"
      },
      "execution_count": 47,
      "outputs": []
    },
    {
      "cell_type": "markdown",
      "source": [
        "Luego de tener la optimización con las demandas dadas, nos vemos en la necesidad de realizar simulaciones de demanda (con el método Monte Carlo) y optimizar dichas demandas simuladas una por una, para de esta manera ver el comportamiento del proceso de producción."
      ],
      "metadata": {
        "id": "gqRh-P17BMJl"
      }
    },
    {
      "cell_type": "markdown",
      "source": [
        "Dicho lo anterior, el proceso que realizamos fue realizar un ciclo for donde dentro de este aplicáramos una simulación para cada demanda (con Monte Carlo) y a cada simulación realizarle una optimización y que dicho proceso se repita dependiendo del número de optimizaciones y los resultados se vayan acumulando en una lista."
      ],
      "metadata": {
        "id": "yXVJZ341CAN9"
      }
    },
    {
      "cell_type": "code",
      "source": [
        "ns = 1000 #Numero de simulaciones"
      ],
      "metadata": {
        "id": "dwsw-7Svw2U2"
      },
      "execution_count": 48,
      "outputs": []
    },
    {
      "cell_type": "markdown",
      "source": [
        "Simulación de Demandas"
      ],
      "metadata": {
        "id": "-ZzUQi2VBcuJ"
      }
    },
    {
      "cell_type": "code",
      "source": [
        "rands_u_D1 = lhs(1, ns) #Hyper Q Volatility\n",
        "mu = 500 # Demanda 1\n",
        "std = 25 #Desviacion de los datos (Digitado)\n",
        "rands_n_D1 = norm(mu, std).ppf(rands_u_D1) #Distribución y Generacion de Datos Aleatorios\n",
        "#plt.hist(rands)"
      ],
      "metadata": {
        "id": "yaIY3EelBmPm"
      },
      "execution_count": 50,
      "outputs": []
    },
    {
      "cell_type": "code",
      "source": [
        "rands_u_D2 = lhs(1, ns) #Hyper Q Volatility\n",
        "mu = 700 # Demanda 2\n",
        "std = 30 #Desviacion de los datos (Digitado)\n",
        "rands_n_D2 = norm(mu, std).ppf(rands_u_D2) #Distribución y Generacion de Datos Aleatorios"
      ],
      "metadata": {
        "id": "9VUyurC7BXkl"
      },
      "execution_count": 51,
      "outputs": []
    },
    {
      "cell_type": "code",
      "source": [
        "rands_u_D3 = lhs(1, ns) #Hyper Q Volatility\n",
        "mu = 800 #Demanda 3\n",
        "std = 35 #Desviacion de los datos (Digitado)\n",
        "rands_n_D3 = norm(mu, std).ppf(rands_u_D3) #Distribución y Generacion de Datos Aleatorios"
      ],
      "metadata": {
        "id": "w5Qxynv2B05p"
      },
      "execution_count": 52,
      "outputs": []
    },
    {
      "cell_type": "markdown",
      "source": [
        "Matriz de demandas simuladas"
      ],
      "metadata": {
        "id": "MIo--ecREODC"
      }
    },
    {
      "cell_type": "code",
      "source": [
        "dem_m = np.concatenate((rands_n_D1.reshape(-1,1), rands_n_D2.reshape(-1,1), rands_n_D3.reshape(-1,1)), axis=1)\n",
        "dem_m.shape #Creamos matriz de ns filas y 3 columnas (3 demandas)"
      ],
      "metadata": {
        "colab": {
          "base_uri": "https://localhost:8080/"
        },
        "id": "Dfm3chXwxdao",
        "outputId": "d9ecf803-0921-45e3-a1c7-9c95b1742b5e"
      },
      "execution_count": 53,
      "outputs": [
        {
          "output_type": "execute_result",
          "data": {
            "text/plain": [
              "(1000, 3)"
            ]
          },
          "metadata": {},
          "execution_count": 53
        }
      ]
    },
    {
      "cell_type": "markdown",
      "source": [
        "Estructura seguida para realizar el ciclo for"
      ],
      "metadata": {
        "id": "TrZSv2CbEYDn"
      }
    },
    {
      "cell_type": "code",
      "source": [
        "#Estructura del Ciclo For\n",
        "#Resultados = []\n",
        "\n",
        "#for i in range(N de Simulaciones):\n",
        "  #Montecarlo\n",
        "  #Optimizacion\n",
        "  #Resultados.append(Optimizacion)\n",
        "\n",
        "#Resultados"
      ],
      "metadata": {
        "id": "OkqRogC_2abn"
      },
      "execution_count": 54,
      "outputs": []
    },
    {
      "cell_type": "code",
      "source": [
        "#Resultados.mean()"
      ],
      "metadata": {
        "id": "dMnYrlgEAjds"
      },
      "execution_count": 55,
      "outputs": []
    },
    {
      "cell_type": "markdown",
      "source": [
        "Ciclo for:"
      ],
      "metadata": {
        "id": "77ce-0HYEpUm"
      }
    },
    {
      "cell_type": "code",
      "source": [
        "Resultados = np.zeros(ns)\n",
        "for k in range(ns):\n",
        "  #Simulación\n",
        "  Demanda_Sim = dem_m[k,:]\n",
        "\n",
        "  #Variables de Decisión\n",
        "  x = cp.Variable((Productos, Instalaciones))\n",
        "  #Función Objetivo\n",
        "  Costo_t = cp.sum(cp.multiply(Costos_por_instalacion, x))\n",
        "  \n",
        "  #Restricciones \n",
        "\n",
        "  for j in range(Instalaciones):\n",
        "    cp.sum(x[:, j]) <= Capacidades[j]\n",
        "  for i in range(Productos):\n",
        "    cp.sum(x[i, :]) == Demanda_Sim[i]\n",
        "  x >= 0\n",
        "  \n",
        "  #Problema de Optimizacion (Minimizar)\n",
        "  prob = cp.Problem(cp.Minimize(Costo_t), [x >= 0, \n",
        "    cp.sum(x[:, 0]) <= Capacidades[0], \n",
        "    cp.sum(x[:, 1]) <= Capacidades[1],\n",
        "    cp.sum(x[:, 2]) <= Capacidades[2],\n",
        "    cp.sum(x[0, :]) == Demanda_Sim[0],\n",
        "    cp.sum(x[1, :]) == Demanda_Sim[1],\n",
        "    cp.sum(x[2, :]) == Demanda_Sim[2]])\n",
        "  prob.solve()\n",
        "  solucion = prob.value\n",
        "  Resultados[k] = solucion"
      ],
      "metadata": {
        "id": "Oa3ZvYSlz3ux"
      },
      "execution_count": 60,
      "outputs": []
    },
    {
      "cell_type": "code",
      "source": [
        "Resultados.mean()"
      ],
      "metadata": {
        "colab": {
          "base_uri": "https://localhost:8080/"
        },
        "id": "9-xm9WdF39b3",
        "outputId": "5eae4317-f19c-4f12-84d4-b1bd0c6e3483"
      },
      "execution_count": 61,
      "outputs": [
        {
          "output_type": "execute_result",
          "data": {
            "text/plain": [
              "9900.003424847993"
            ]
          },
          "metadata": {},
          "execution_count": 61
        }
      ]
    },
    {
      "cell_type": "markdown",
      "source": [
        "Como vemos, el promedio de la optimización de las demandas simuladas nos da como resultado los mismos costos totales de producción de la optimización principal realizada anteriormente, por lo que de esta manera comprobamos que el ejercicio está bien realizado y los costos totales no se ven afectados por algún cambio en las demandas, y de esta manera se sigue con el mismo proceso de producción que se expuso anteriormente."
      ],
      "metadata": {
        "id": "RqXeAAOOF_AO"
      }
    },
    {
      "cell_type": "markdown",
      "source": [
        "**CONCLUSIONES**"
      ],
      "metadata": {
        "id": "fNUq9bUaBEFC"
      }
    },
    {
      "cell_type": "markdown",
      "source": [
        "* ¿Cuál es la decisión óptima de la empresa en su plan de producción y de \n",
        "distribución?\n",
        "* R/ Según los resultados presentados anteriormente, se debe cerrar la planta número 3, debido a los altos costos de distribución que dicha planta tiene, y de esta manera distribuir la producción de la siguiente manera:\n",
        "La instalación 1 producirá 500 del producto A (demanda completa) y producirá 300 del producto B. Y, por otro lado, la instalación 2 producirá 400 del producto B (para completar demanda) y 800 del producto C (demanda completa)."
      ],
      "metadata": {
        "id": "4qGoAyETBIB_"
      }
    },
    {
      "cell_type": "markdown",
      "source": [
        "* ¿Cambia la decisión del plan de producción de la empresa si se afectan las variables de demanda y de costos?\n",
        "* R/ Según los resultados presentados anteriormente, los costos totales no se ven afectados por algún cambio en las demandas, y de esta manera se sigue con el mismo proceso de producción que se expuso anteriormente."
      ],
      "metadata": {
        "id": "BBLE-bY5FCPI"
      }
    }
  ]
}